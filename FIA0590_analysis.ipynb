{
 "cells": [
  {
   "cell_type": "markdown",
   "id": "c0cf956f-94b4-4831-bbdd-6aeee84bad35",
   "metadata": {},
   "source": [
    "# FIA0590 Prepaid Revenue Forecast"
   ]
  },
  {
   "cell_type": "markdown",
   "id": "c0769068-7d1a-4469-983d-369b7841c008",
   "metadata": {
    "tags": []
   },
   "source": [
    "# Load libraries & global settings"
   ]
  },
  {
   "cell_type": "code",
   "execution_count": 1,
   "id": "46899d4d-2aae-436a-a8cf-90afd886a771",
   "metadata": {},
   "outputs": [],
   "source": [
    "%load_ext lab_black\n",
    "%reload_ext lab_black"
   ]
  },
  {
   "cell_type": "code",
   "execution_count": 2,
   "id": "4414f80b-a18e-4a80-8f8d-5022b3be032e",
   "metadata": {},
   "outputs": [],
   "source": [
    "import pandas as pd\n",
    "import numpy as np\n",
    "import pandas_profiling\n",
    "from datetime import datetime, timedelta\n",
    "\n",
    "from pathlib import Path\n",
    "import seaborn as sns\n",
    "import datetime\n",
    "from plotly.subplots import make_subplots\n",
    "import plotly.graph_objs as go\n",
    "import plotly.figure_factory as ff\n",
    "\n",
    "\n",
    "# Specific libraries for the task at hand:\n",
    "from statsmodels.tsa.seasonal import STL\n",
    "from statsmodels.tsa.arima.model import ARIMA\n",
    "from statsmodels.tsa.forecasting.stl import STLForecast\n",
    "\n",
    "# Stationary tests to find d\n",
    "from statsmodels.tsa.stattools import adfuller\n",
    "from statsmodels.tsa.stattools import kpss\n",
    "\n",
    "# AutoCorrelation Function and Partial AutoCorrelation Function\n",
    "from statsmodels.graphics.tsaplots import plot_acf, plot_pacf\n",
    "\n",
    "\n",
    "# Personal tools\n",
    "from FIA0590_analysis_tools import (\n",
    "    stl_fitting,\n",
    "    plot_stl_fitting,\n",
    "    plot_stacked_timeseries,\n",
    ")"
   ]
  },
  {
   "cell_type": "code",
   "execution_count": 3,
   "id": "bf914146-16e1-4fbd-9450-850653b70bef",
   "metadata": {},
   "outputs": [],
   "source": [
    "import dtale"
   ]
  },
  {
   "cell_type": "code",
   "execution_count": 4,
   "id": "e09ba3eb-3f01-495c-935f-ff6ce74d1b9b",
   "metadata": {},
   "outputs": [
    {
     "name": "stdout",
     "output_type": "stream",
     "text": [
      "2022-03-02 13:48:56.372185\n"
     ]
    }
   ],
   "source": [
    "TODAY = pd.Timestamp.today()\n",
    "print(TODAY)"
   ]
  },
  {
   "cell_type": "code",
   "execution_count": 5,
   "id": "5e7d6cdc-6433-4f28-a254-2c00cd162332",
   "metadata": {},
   "outputs": [
    {
     "name": "stdout",
     "output_type": "stream",
     "text": [
      "C:\\Users\\truongs\\Documents\\GitHub\\FIA0590_prepaid_revenue_forecast\n",
      "C:\\Users\\truongs\\Documents\\GitHub\\FIA0590_prepaid_revenue_forecast\\analysis\n",
      "C:\\Users\\truongs\\Documents\\GitHub\\FIA0590_prepaid_revenue_forecast\\data\n"
     ]
    }
   ],
   "source": [
    "WORK_DIR = Path.cwd()\n",
    "ANALYSIS_DIR = WORK_DIR / \"analysis\"\n",
    "DATA_DIR = WORK_DIR / \"data\"\n",
    "\n",
    "print(WORK_DIR)\n",
    "print(ANALYSIS_DIR)\n",
    "print(DATA_DIR)"
   ]
  },
  {
   "cell_type": "code",
   "execution_count": 6,
   "id": "257b8a14-2ef3-4ada-828a-0a29ff18c354",
   "metadata": {},
   "outputs": [],
   "source": [
    "pd.set_option(\"display.max_rows\", 500)\n",
    "pd.set_option(\"display.float_format\", lambda x: \"%.2f\" % x)"
   ]
  },
  {
   "cell_type": "markdown",
   "id": "ef8134f9-2adf-4eb0-bb2c-280d026683eb",
   "metadata": {},
   "source": [
    "# Load data"
   ]
  },
  {
   "cell_type": "code",
   "execution_count": 7,
   "id": "48f29b7b-a7aa-4f9d-be7f-2644daf559a5",
   "metadata": {},
   "outputs": [
    {
     "name": "stdout",
     "output_type": "stream",
     "text": [
      "\\FIA0590_raw_data_20220215.csv\n"
     ]
    }
   ],
   "source": [
    "# What files are around:\n",
    "files = list(DATA_DIR.iterdir())\n",
    "for x in files:\n",
    "    print(str(x)[len(str(DATA_DIR)) :])"
   ]
  },
  {
   "cell_type": "code",
   "execution_count": 8,
   "id": "58b268ee-6cda-4f29-8857-ea8de3f51423",
   "metadata": {},
   "outputs": [],
   "source": [
    "raw_prepaid_df = pd.read_csv(\n",
    "    filepath_or_buffer=DATA_DIR / \"FIA0590_raw_data_20220215.csv\", sep=\";\"\n",
    ").astype(\n",
    "    {\n",
    "        \"Subscription_Type_Name\": \"category\",\n",
    "        \"Subscription_Type_Desc\": \"category\",\n",
    "        \"Brand_Name\": \"category\",\n",
    "    }\n",
    ")\n",
    "\n",
    "raw_prepaid_df[\"Calendar_Year_Month_Date\"] = pd.to_datetime(\n",
    "    raw_prepaid_df.Calendar_Year_Month_Date, format=\"%d.%m.%Y\"\n",
    ")"
   ]
  },
  {
   "cell_type": "code",
   "execution_count": 9,
   "id": "3e0077ce-7958-49fc-83cd-b04538b09092",
   "metadata": {},
   "outputs": [
    {
     "name": "stdout",
     "output_type": "stream",
     "text": [
      "<class 'pandas.core.frame.DataFrame'>\n",
      "RangeIndex: 532 entries, 0 to 531\n",
      "Data columns (total 8 columns):\n",
      " #   Column                    Non-Null Count  Dtype         \n",
      "---  ------                    --------------  -----         \n",
      " 0   Calendar_Year_Month_Id    532 non-null    int64         \n",
      " 1   Calendar_Year_Month_Date  532 non-null    datetime64[ns]\n",
      " 2   Subscription_Type_Name    532 non-null    category      \n",
      " 3   Subscription_Type_Desc    532 non-null    category      \n",
      " 4   Brand_Name                532 non-null    category      \n",
      " 5   days_in_month             532 non-null    int64         \n",
      " 6   rev_net_total             532 non-null    float64       \n",
      " 7   subs_count                532 non-null    int64         \n",
      "dtypes: category(3), datetime64[ns](1), float64(1), int64(3)\n",
      "memory usage: 23.1 KB\n"
     ]
    }
   ],
   "source": [
    "raw_prepaid_df.info()"
   ]
  },
  {
   "cell_type": "markdown",
   "id": "01bb96c0-ad7d-4057-a92e-796b6cbe4c04",
   "metadata": {},
   "source": [
    "# Data Preparation"
   ]
  },
  {
   "cell_type": "code",
   "execution_count": 10,
   "id": "2b318baf-4e28-4f5b-96ce-5b419d230050",
   "metadata": {},
   "outputs": [],
   "source": [
    "prepaid_df = raw_prepaid_df"
   ]
  },
  {
   "cell_type": "code",
   "execution_count": 11,
   "id": "9a64d092-7919-4923-b6dd-659fd01ed13f",
   "metadata": {},
   "outputs": [],
   "source": [
    "prepaid_df[\"rev_net_total_per_day\"] = (\n",
    "    prepaid_df.rev_net_total / prepaid_df.days_in_month\n",
    ")"
   ]
  },
  {
   "cell_type": "code",
   "execution_count": 12,
   "id": "958136a7-4f48-4d61-a78a-365ef9e72ab1",
   "metadata": {
    "tags": []
   },
   "outputs": [
    {
     "data": {
      "text/html": [
       "<div>\n",
       "<style scoped>\n",
       "    .dataframe tbody tr th:only-of-type {\n",
       "        vertical-align: middle;\n",
       "    }\n",
       "\n",
       "    .dataframe tbody tr th {\n",
       "        vertical-align: top;\n",
       "    }\n",
       "\n",
       "    .dataframe thead th {\n",
       "        text-align: right;\n",
       "    }\n",
       "</style>\n",
       "<table border=\"1\" class=\"dataframe\">\n",
       "  <thead>\n",
       "    <tr style=\"text-align: right;\">\n",
       "      <th></th>\n",
       "      <th>Calendar_Year_Month_Id</th>\n",
       "      <th>Calendar_Year_Month_Date</th>\n",
       "      <th>Subscription_Type_Name</th>\n",
       "      <th>Subscription_Type_Desc</th>\n",
       "      <th>Brand_Name</th>\n",
       "      <th>days_in_month</th>\n",
       "      <th>rev_net_total</th>\n",
       "      <th>subs_count</th>\n",
       "      <th>rev_net_total_per_day</th>\n",
       "    </tr>\n",
       "  </thead>\n",
       "  <tbody>\n",
       "    <tr>\n",
       "      <th>0</th>\n",
       "      <td>202201</td>\n",
       "      <td>2022-01-01</td>\n",
       "      <td>MVNO4</td>\n",
       "      <td>Aldi Mobile Prepaid Subscription</td>\n",
       "      <td>Aldi</td>\n",
       "      <td>31</td>\n",
       "      <td>497451.79</td>\n",
       "      <td>48315</td>\n",
       "      <td>16046.83</td>\n",
       "    </tr>\n",
       "    <tr>\n",
       "      <th>133</th>\n",
       "      <td>202201</td>\n",
       "      <td>2022-01-01</td>\n",
       "      <td>MVNO3</td>\n",
       "      <td>Lebara Mobile Prepaid Subscription</td>\n",
       "      <td>Lebara</td>\n",
       "      <td>31</td>\n",
       "      <td>956734.19</td>\n",
       "      <td>95128</td>\n",
       "      <td>30862.39</td>\n",
       "    </tr>\n",
       "    <tr>\n",
       "      <th>399</th>\n",
       "      <td>202201</td>\n",
       "      <td>2022-01-01</td>\n",
       "      <td>CONGA</td>\n",
       "      <td>Yallo Mobile Prepaid Subscription</td>\n",
       "      <td>Yallo</td>\n",
       "      <td>31</td>\n",
       "      <td>1146105.08</td>\n",
       "      <td>153160</td>\n",
       "      <td>36971.13</td>\n",
       "    </tr>\n",
       "    <tr>\n",
       "      <th>266</th>\n",
       "      <td>202201</td>\n",
       "      <td>2022-01-01</td>\n",
       "      <td>Mobile Prepaid</td>\n",
       "      <td>Sunrise Mobile Prepaid Subscription - PRONTO -...</td>\n",
       "      <td>Sunrise</td>\n",
       "      <td>31</td>\n",
       "      <td>1237618.33</td>\n",
       "      <td>186343</td>\n",
       "      <td>39923.17</td>\n",
       "    </tr>\n",
       "    <tr>\n",
       "      <th>400</th>\n",
       "      <td>202112</td>\n",
       "      <td>2021-12-01</td>\n",
       "      <td>CONGA</td>\n",
       "      <td>Yallo Mobile Prepaid Subscription</td>\n",
       "      <td>Yallo</td>\n",
       "      <td>31</td>\n",
       "      <td>1178721.17</td>\n",
       "      <td>150937</td>\n",
       "      <td>38023.26</td>\n",
       "    </tr>\n",
       "    <tr>\n",
       "      <th>...</th>\n",
       "      <td>...</td>\n",
       "      <td>...</td>\n",
       "      <td>...</td>\n",
       "      <td>...</td>\n",
       "      <td>...</td>\n",
       "      <td>...</td>\n",
       "      <td>...</td>\n",
       "      <td>...</td>\n",
       "      <td>...</td>\n",
       "    </tr>\n",
       "    <tr>\n",
       "      <th>397</th>\n",
       "      <td>201102</td>\n",
       "      <td>2011-02-01</td>\n",
       "      <td>Mobile Prepaid</td>\n",
       "      <td>Sunrise Mobile Prepaid Subscription - PRONTO -...</td>\n",
       "      <td>Sunrise</td>\n",
       "      <td>28</td>\n",
       "      <td>8218698.29</td>\n",
       "      <td>453698</td>\n",
       "      <td>293524.94</td>\n",
       "    </tr>\n",
       "    <tr>\n",
       "      <th>132</th>\n",
       "      <td>201101</td>\n",
       "      <td>2011-01-01</td>\n",
       "      <td>MVNO4</td>\n",
       "      <td>Aldi Mobile Prepaid Subscription</td>\n",
       "      <td>Aldi</td>\n",
       "      <td>31</td>\n",
       "      <td>154360.77</td>\n",
       "      <td>19273</td>\n",
       "      <td>4979.38</td>\n",
       "    </tr>\n",
       "    <tr>\n",
       "      <th>265</th>\n",
       "      <td>201101</td>\n",
       "      <td>2011-01-01</td>\n",
       "      <td>MVNO3</td>\n",
       "      <td>Lebara Mobile Prepaid Subscription</td>\n",
       "      <td>Lebara</td>\n",
       "      <td>31</td>\n",
       "      <td>9735737.29</td>\n",
       "      <td>182358</td>\n",
       "      <td>314056.04</td>\n",
       "    </tr>\n",
       "    <tr>\n",
       "      <th>398</th>\n",
       "      <td>201101</td>\n",
       "      <td>2011-01-01</td>\n",
       "      <td>Mobile Prepaid</td>\n",
       "      <td>Sunrise Mobile Prepaid Subscription - PRONTO -...</td>\n",
       "      <td>Sunrise</td>\n",
       "      <td>31</td>\n",
       "      <td>9296977.94</td>\n",
       "      <td>474692</td>\n",
       "      <td>299902.51</td>\n",
       "    </tr>\n",
       "    <tr>\n",
       "      <th>531</th>\n",
       "      <td>201101</td>\n",
       "      <td>2011-01-01</td>\n",
       "      <td>CONGA</td>\n",
       "      <td>Yallo Mobile Prepaid Subscription</td>\n",
       "      <td>Yallo</td>\n",
       "      <td>31</td>\n",
       "      <td>10516760.43</td>\n",
       "      <td>338040</td>\n",
       "      <td>339250.34</td>\n",
       "    </tr>\n",
       "  </tbody>\n",
       "</table>\n",
       "<p>532 rows × 9 columns</p>\n",
       "</div>"
      ],
      "text/plain": [
       "     Calendar_Year_Month_Id Calendar_Year_Month_Date Subscription_Type_Name  \\\n",
       "0                    202201               2022-01-01                  MVNO4   \n",
       "133                  202201               2022-01-01                  MVNO3   \n",
       "399                  202201               2022-01-01                  CONGA   \n",
       "266                  202201               2022-01-01         Mobile Prepaid   \n",
       "400                  202112               2021-12-01                  CONGA   \n",
       "..                      ...                      ...                    ...   \n",
       "397                  201102               2011-02-01         Mobile Prepaid   \n",
       "132                  201101               2011-01-01                  MVNO4   \n",
       "265                  201101               2011-01-01                  MVNO3   \n",
       "398                  201101               2011-01-01         Mobile Prepaid   \n",
       "531                  201101               2011-01-01                  CONGA   \n",
       "\n",
       "                                Subscription_Type_Desc Brand_Name  \\\n",
       "0                     Aldi Mobile Prepaid Subscription       Aldi   \n",
       "133                 Lebara Mobile Prepaid Subscription     Lebara   \n",
       "399                  Yallo Mobile Prepaid Subscription      Yallo   \n",
       "266  Sunrise Mobile Prepaid Subscription - PRONTO -...    Sunrise   \n",
       "400                  Yallo Mobile Prepaid Subscription      Yallo   \n",
       "..                                                 ...        ...   \n",
       "397  Sunrise Mobile Prepaid Subscription - PRONTO -...    Sunrise   \n",
       "132                   Aldi Mobile Prepaid Subscription       Aldi   \n",
       "265                 Lebara Mobile Prepaid Subscription     Lebara   \n",
       "398  Sunrise Mobile Prepaid Subscription - PRONTO -...    Sunrise   \n",
       "531                  Yallo Mobile Prepaid Subscription      Yallo   \n",
       "\n",
       "     days_in_month  rev_net_total  subs_count  rev_net_total_per_day  \n",
       "0               31      497451.79       48315               16046.83  \n",
       "133             31      956734.19       95128               30862.39  \n",
       "399             31     1146105.08      153160               36971.13  \n",
       "266             31     1237618.33      186343               39923.17  \n",
       "400             31     1178721.17      150937               38023.26  \n",
       "..             ...            ...         ...                    ...  \n",
       "397             28     8218698.29      453698              293524.94  \n",
       "132             31      154360.77       19273                4979.38  \n",
       "265             31     9735737.29      182358              314056.04  \n",
       "398             31     9296977.94      474692              299902.51  \n",
       "531             31    10516760.43      338040              339250.34  \n",
       "\n",
       "[532 rows x 9 columns]"
      ]
     },
     "execution_count": 12,
     "metadata": {},
     "output_type": "execute_result"
    }
   ],
   "source": [
    "prepaid_df.sort_values(\"Calendar_Year_Month_Date\", ascending=False)"
   ]
  },
  {
   "cell_type": "code",
   "execution_count": 13,
   "id": "a1b0ad1e-3287-41c4-9384-531942497321",
   "metadata": {},
   "outputs": [
    {
     "data": {
      "text/plain": [
       "(532, 9)"
      ]
     },
     "execution_count": 13,
     "metadata": {},
     "output_type": "execute_result"
    }
   ],
   "source": [
    "prepaid_df.shape"
   ]
  },
  {
   "cell_type": "code",
   "execution_count": 14,
   "id": "6158a968-e33e-474f-863a-bb7aa6113d99",
   "metadata": {},
   "outputs": [
    {
     "data": {
      "text/html": [
       "<div>\n",
       "<style scoped>\n",
       "    .dataframe tbody tr th:only-of-type {\n",
       "        vertical-align: middle;\n",
       "    }\n",
       "\n",
       "    .dataframe tbody tr th {\n",
       "        vertical-align: top;\n",
       "    }\n",
       "\n",
       "    .dataframe thead th {\n",
       "        text-align: right;\n",
       "    }\n",
       "</style>\n",
       "<table border=\"1\" class=\"dataframe\">\n",
       "  <thead>\n",
       "    <tr style=\"text-align: right;\">\n",
       "      <th></th>\n",
       "      <th>Calendar_Year_Month_Id</th>\n",
       "      <th>days_in_month</th>\n",
       "      <th>rev_net_total</th>\n",
       "      <th>subs_count</th>\n",
       "      <th>rev_net_total_per_day</th>\n",
       "    </tr>\n",
       "  </thead>\n",
       "  <tbody>\n",
       "    <tr>\n",
       "      <th>count</th>\n",
       "      <td>532.00</td>\n",
       "      <td>532.00</td>\n",
       "      <td>532.00</td>\n",
       "      <td>532.00</td>\n",
       "      <td>532.00</td>\n",
       "    </tr>\n",
       "    <tr>\n",
       "      <th>mean</th>\n",
       "      <td>201610.97</td>\n",
       "      <td>30.44</td>\n",
       "      <td>3722343.12</td>\n",
       "      <td>222670.34</td>\n",
       "      <td>122301.82</td>\n",
       "    </tr>\n",
       "    <tr>\n",
       "      <th>std</th>\n",
       "      <td>319.51</td>\n",
       "      <td>0.81</td>\n",
       "      <td>3328510.64</td>\n",
       "      <td>140148.15</td>\n",
       "      <td>109292.21</td>\n",
       "    </tr>\n",
       "    <tr>\n",
       "      <th>min</th>\n",
       "      <td>201101.00</td>\n",
       "      <td>28.00</td>\n",
       "      <td>140741.11</td>\n",
       "      <td>18341.00</td>\n",
       "      <td>4979.38</td>\n",
       "    </tr>\n",
       "    <tr>\n",
       "      <th>25%</th>\n",
       "      <td>201310.00</td>\n",
       "      <td>30.00</td>\n",
       "      <td>867728.19</td>\n",
       "      <td>83303.75</td>\n",
       "      <td>27991.23</td>\n",
       "    </tr>\n",
       "    <tr>\n",
       "      <th>50%</th>\n",
       "      <td>201607.00</td>\n",
       "      <td>31.00</td>\n",
       "      <td>2559761.25</td>\n",
       "      <td>227022.50</td>\n",
       "      <td>84090.79</td>\n",
       "    </tr>\n",
       "    <tr>\n",
       "      <th>75%</th>\n",
       "      <td>201904.00</td>\n",
       "      <td>31.00</td>\n",
       "      <td>5914208.67</td>\n",
       "      <td>330803.50</td>\n",
       "      <td>193367.15</td>\n",
       "    </tr>\n",
       "    <tr>\n",
       "      <th>max</th>\n",
       "      <td>202201.00</td>\n",
       "      <td>31.00</td>\n",
       "      <td>11370017.26</td>\n",
       "      <td>563174.00</td>\n",
       "      <td>374699.20</td>\n",
       "    </tr>\n",
       "  </tbody>\n",
       "</table>\n",
       "</div>"
      ],
      "text/plain": [
       "       Calendar_Year_Month_Id  days_in_month  rev_net_total  subs_count  \\\n",
       "count                  532.00         532.00         532.00      532.00   \n",
       "mean                201610.97          30.44     3722343.12   222670.34   \n",
       "std                    319.51           0.81     3328510.64   140148.15   \n",
       "min                 201101.00          28.00      140741.11    18341.00   \n",
       "25%                 201310.00          30.00      867728.19    83303.75   \n",
       "50%                 201607.00          31.00     2559761.25   227022.50   \n",
       "75%                 201904.00          31.00     5914208.67   330803.50   \n",
       "max                 202201.00          31.00    11370017.26   563174.00   \n",
       "\n",
       "       rev_net_total_per_day  \n",
       "count                 532.00  \n",
       "mean               122301.82  \n",
       "std                109292.21  \n",
       "min                  4979.38  \n",
       "25%                 27991.23  \n",
       "50%                 84090.79  \n",
       "75%                193367.15  \n",
       "max                374699.20  "
      ]
     },
     "execution_count": 14,
     "metadata": {},
     "output_type": "execute_result"
    }
   ],
   "source": [
    "prepaid_df.describe()"
   ]
  },
  {
   "cell_type": "markdown",
   "id": "4fd49aa2-bd28-4d2d-90a4-ccb14e8a8c07",
   "metadata": {},
   "source": [
    "# Data Exploration"
   ]
  },
  {
   "cell_type": "markdown",
   "id": "fe4383b8-b24a-4f83-8caf-1f16f7dede7f",
   "metadata": {},
   "source": [
    "## Pandas Profiling"
   ]
  },
  {
   "cell_type": "markdown",
   "id": "b651d1ac-6b3b-4f3e-8be3-ef6100828a60",
   "metadata": {},
   "source": [
    "Possible bug: https://github.com/pandas-profiling/pandas-profiling/issues/911"
   ]
  },
  {
   "cell_type": "code",
   "execution_count": 15,
   "id": "1e74c543-45fb-4954-8293-41fa60354f66",
   "metadata": {},
   "outputs": [
    {
     "data": {
      "application/vnd.jupyter.widget-view+json": {
       "model_id": "b54102ab220d4a4fa1256578529cdcaf",
       "version_major": 2,
       "version_minor": 0
      },
      "text/plain": [
       "Summarize dataset:   0%|          | 0/5 [00:00<?, ?it/s]"
      ]
     },
     "metadata": {},
     "output_type": "display_data"
    },
    {
     "data": {
      "application/vnd.jupyter.widget-view+json": {
       "model_id": "e85e750664654726b03544137f5a9557",
       "version_major": 2,
       "version_minor": 0
      },
      "text/plain": [
       "Generate report structure:   0%|          | 0/1 [00:00<?, ?it/s]"
      ]
     },
     "metadata": {},
     "output_type": "display_data"
    },
    {
     "data": {
      "application/vnd.jupyter.widget-view+json": {
       "model_id": "0875b0859023461daaa80abf03e251b1",
       "version_major": 2,
       "version_minor": 0
      },
      "text/plain": [
       "Render HTML:   0%|          | 0/1 [00:00<?, ?it/s]"
      ]
     },
     "metadata": {},
     "output_type": "display_data"
    },
    {
     "data": {
      "application/vnd.jupyter.widget-view+json": {
       "model_id": "0e4b180ce0d14a57b71c1d056031124d",
       "version_major": 2,
       "version_minor": 0
      },
      "text/plain": [
       "Export report to file:   0%|          | 0/1 [00:00<?, ?it/s]"
      ]
     },
     "metadata": {},
     "output_type": "display_data"
    },
    {
     "name": "stdout",
     "output_type": "stream",
     "text": [
      "C:\\Users\\truongs\\Documents\\GitHub\\FIA0590_prepaid_revenue_forecast\\analysis\\FIA0590_profiling.html\n"
     ]
    }
   ],
   "source": [
    "ANALYSIS_DIR\n",
    "profile = prepaid_df.profile_report(\n",
    "    title=\"FIA0590 Prepaid Revenue\",\n",
    "    minimal=True,  # explorative=True, # currently broken\n",
    ")\n",
    "_link_to_file_ = ANALYSIS_DIR / \"FIA0590_profiling.html\"\n",
    "\n",
    "profile.to_file(output_file=_link_to_file_)\n",
    "\n",
    "print(_link_to_file_)"
   ]
  },
  {
   "cell_type": "markdown",
   "id": "aa85f163-7223-4905-82d4-5f79a439bb2c",
   "metadata": {},
   "source": [
    "## D-Tale"
   ]
  },
  {
   "cell_type": "code",
   "execution_count": 17,
   "id": "41751c4a-7bcb-4fa0-af79-46b668774090",
   "metadata": {
    "tags": []
   },
   "outputs": [],
   "source": [
    "dtale.show(prepaid_df, open_browser=True)"
   ]
  },
  {
   "cell_type": "markdown",
   "id": "3e8a5983-12c8-4468-a9df-5ee5a2444e11",
   "metadata": {
    "tags": []
   },
   "source": [
    "## Stacked Timeseries"
   ]
  },
  {
   "cell_type": "code",
   "execution_count": 21,
   "id": "ccdcdc77-6a5d-48f7-8428-61d612283eaa",
   "metadata": {},
   "outputs": [
    {
     "name": "stdout",
     "output_type": "stream",
     "text": [
      "C:\\Users\\truongs\\Documents\\GitHub\\FIA0590_prepaid_revenue_forecast\\analysis\\FIA0590_stacked_revenue.html\n"
     ]
    }
   ],
   "source": [
    "plot_stacked_timeseries(plot_df=prepaid_df, ANALYSIS_DIR=ANALYSIS_DIR)"
   ]
  },
  {
   "cell_type": "markdown",
   "id": "9a3851cb-2904-4e6f-ba6d-c796ea11bebf",
   "metadata": {
    "tags": []
   },
   "source": [
    "# STATSMODELS: _Seasonal-Trend decomposition_ (STD) using _Locally Estimated Scatterplot Smoothing_ (LOESS)"
   ]
  },
  {
   "cell_type": "markdown",
   "id": "ce847c4f-f036-48eb-b592-7bc11c72ab4e",
   "metadata": {},
   "source": [
    "https://www.statsmodels.org/dev/examples/notebooks/generated/stl_decomposition.html"
   ]
  },
  {
   "cell_type": "markdown",
   "id": "ed18f501-b9ec-4e82-afb6-7eaf295af224",
   "metadata": {},
   "source": [
    "## Create dedicated time series dataframes for Sunrise, Yallo, and Lebara"
   ]
  },
  {
   "cell_type": "code",
   "execution_count": 22,
   "id": "cf65182c-d021-4b45-930f-9d65ef0e7ce0",
   "metadata": {
    "tags": []
   },
   "outputs": [
    {
     "name": "stdout",
     "output_type": "stream",
     "text": [
      "\n",
      " SUNRISE \n",
      "\n",
      "<class 'pandas.core.frame.DataFrame'>\n",
      "DatetimeIndex: 133 entries, 2011-01-01 to 2022-01-01\n",
      "Data columns (total 8 columns):\n",
      " #   Column                  Non-Null Count  Dtype   \n",
      "---  ------                  --------------  -----   \n",
      " 0   Calendar_Year_Month_Id  133 non-null    int64   \n",
      " 1   Subscription_Type_Name  133 non-null    category\n",
      " 2   Subscription_Type_Desc  133 non-null    category\n",
      " 3   Brand_Name              133 non-null    category\n",
      " 4   days_in_month           133 non-null    int64   \n",
      " 5   rev_net_total           133 non-null    float64 \n",
      " 6   subs_count              133 non-null    int64   \n",
      " 7   rev_net_total_per_day   133 non-null    float64 \n",
      "dtypes: category(3), float64(2), int64(3)\n",
      "memory usage: 7.2 KB\n",
      "None\n",
      "\n",
      " YALLO \n",
      "\n",
      "<class 'pandas.core.frame.DataFrame'>\n",
      "DatetimeIndex: 133 entries, 2011-01-01 to 2022-01-01\n",
      "Data columns (total 8 columns):\n",
      " #   Column                  Non-Null Count  Dtype   \n",
      "---  ------                  --------------  -----   \n",
      " 0   Calendar_Year_Month_Id  133 non-null    int64   \n",
      " 1   Subscription_Type_Name  133 non-null    category\n",
      " 2   Subscription_Type_Desc  133 non-null    category\n",
      " 3   Brand_Name              133 non-null    category\n",
      " 4   days_in_month           133 non-null    int64   \n",
      " 5   rev_net_total           133 non-null    float64 \n",
      " 6   subs_count              133 non-null    int64   \n",
      " 7   rev_net_total_per_day   133 non-null    float64 \n",
      "dtypes: category(3), float64(2), int64(3)\n",
      "memory usage: 7.2 KB\n",
      "None\n",
      "\n",
      " LEBARA \n",
      "\n",
      "<class 'pandas.core.frame.DataFrame'>\n",
      "DatetimeIndex: 133 entries, 2011-01-01 to 2022-01-01\n",
      "Data columns (total 8 columns):\n",
      " #   Column                  Non-Null Count  Dtype   \n",
      "---  ------                  --------------  -----   \n",
      " 0   Calendar_Year_Month_Id  133 non-null    int64   \n",
      " 1   Subscription_Type_Name  133 non-null    category\n",
      " 2   Subscription_Type_Desc  133 non-null    category\n",
      " 3   Brand_Name              133 non-null    category\n",
      " 4   days_in_month           133 non-null    int64   \n",
      " 5   rev_net_total           133 non-null    float64 \n",
      " 6   subs_count              133 non-null    int64   \n",
      " 7   rev_net_total_per_day   133 non-null    float64 \n",
      "dtypes: category(3), float64(2), int64(3)\n",
      "memory usage: 7.2 KB\n",
      "None\n"
     ]
    }
   ],
   "source": [
    "print(\"\\n SUNRISE \\n\")\n",
    "\n",
    "sunrise_df = (\n",
    "    prepaid_df[prepaid_df.Brand_Name.isin([\"Sunrise\"])]\n",
    "    .sort_values(\"Calendar_Year_Month_Date\")\n",
    "    .reset_index()\n",
    "    .drop(columns=\"index\")\n",
    ").set_index(\"Calendar_Year_Month_Date\")\n",
    "\n",
    "print(sunrise_df.info())\n",
    "\n",
    "print(\"\\n YALLO \\n\")\n",
    "\n",
    "yallo_df = (\n",
    "    prepaid_df[prepaid_df.Brand_Name.isin([\"Yallo\"])]\n",
    "    .sort_values(\"Calendar_Year_Month_Date\")\n",
    "    .reset_index()\n",
    "    .drop(columns=\"index\")\n",
    ").set_index(\"Calendar_Year_Month_Date\")\n",
    "\n",
    "print(yallo_df.info())\n",
    "\n",
    "print(\"\\n LEBARA \\n\")\n",
    "\n",
    "lebara_df = (\n",
    "    prepaid_df[prepaid_df.Brand_Name.isin([\"Lebara\"])]\n",
    "    .sort_values(\"Calendar_Year_Month_Date\")\n",
    "    .reset_index()\n",
    "    .drop(columns=\"index\")\n",
    ").set_index(\"Calendar_Year_Month_Date\")\n",
    "\n",
    "print(yallo_df.info())"
   ]
  },
  {
   "cell_type": "markdown",
   "id": "d9d8dfc6-5bd6-4fbe-b41c-2e2a7b702593",
   "metadata": {},
   "source": [
    "## Anomally Detection: Robust Fitting "
   ]
  },
  {
   "cell_type": "markdown",
   "id": "f8fc7913-4fe8-4cda-a9ee-2b987b947330",
   "metadata": {},
   "source": [
    "```\n",
    "Revenue = Trend + Saisonalität + Fehler\n",
    "\n",
    "        = LOESS + SARIMA       + Residuals\n",
    "        \n",
    "        = \"Locally Estimated Scatterplot Smoothing\" \n",
    "                    + \"Seasonal Auto-Regressive Integrated Moving Average\" \n",
    "                                + Residuals\n",
    "                            \n",
    "        = \"Lokale polynomiale Regression (z.B. Marktsätigung)\"\n",
    "                    + \"Saisonalitäten, welche sich über die Zeit verändern (z.b. sinkende Oszillation)\" \n",
    "                            + \"Fehler/Anomalie (z.B. Noise, Bundesmassnahmen, Systemfehler, )\"\n",
    "```"
   ]
  },
  {
   "cell_type": "code",
   "execution_count": 23,
   "id": "9d546b3b-7cfc-44d5-a177-aa75fdb23729",
   "metadata": {},
   "outputs": [
    {
     "data": {
      "text/html": [
       "<div>\n",
       "<style scoped>\n",
       "    .dataframe tbody tr th:only-of-type {\n",
       "        vertical-align: middle;\n",
       "    }\n",
       "\n",
       "    .dataframe tbody tr th {\n",
       "        vertical-align: top;\n",
       "    }\n",
       "\n",
       "    .dataframe thead th {\n",
       "        text-align: right;\n",
       "    }\n",
       "</style>\n",
       "<table border=\"1\" class=\"dataframe\">\n",
       "  <thead>\n",
       "    <tr style=\"text-align: right;\">\n",
       "      <th></th>\n",
       "      <th>observed</th>\n",
       "      <th>trend</th>\n",
       "      <th>seasonal</th>\n",
       "      <th>residuals</th>\n",
       "      <th>weights</th>\n",
       "    </tr>\n",
       "    <tr>\n",
       "      <th>Calendar_Year_Month_Date</th>\n",
       "      <th></th>\n",
       "      <th></th>\n",
       "      <th></th>\n",
       "      <th></th>\n",
       "      <th></th>\n",
       "    </tr>\n",
       "  </thead>\n",
       "  <tbody>\n",
       "    <tr>\n",
       "      <th>2021-11-01</th>\n",
       "      <td>1183868.60</td>\n",
       "      <td>1415291.20</td>\n",
       "      <td>-62474.23</td>\n",
       "      <td>-168948.37</td>\n",
       "      <td>0.00</td>\n",
       "    </tr>\n",
       "    <tr>\n",
       "      <th>2021-12-01</th>\n",
       "      <td>1343088.60</td>\n",
       "      <td>1392728.12</td>\n",
       "      <td>-40681.21</td>\n",
       "      <td>-8958.31</td>\n",
       "      <td>0.99</td>\n",
       "    </tr>\n",
       "    <tr>\n",
       "      <th>2022-01-01</th>\n",
       "      <td>1237618.33</td>\n",
       "      <td>1370133.81</td>\n",
       "      <td>-122506.30</td>\n",
       "      <td>-10009.18</td>\n",
       "      <td>0.98</td>\n",
       "    </tr>\n",
       "  </tbody>\n",
       "</table>\n",
       "</div>"
      ],
      "text/plain": [
       "                           observed      trend   seasonal  residuals  weights\n",
       "Calendar_Year_Month_Date                                                     \n",
       "2021-11-01               1183868.60 1415291.20  -62474.23 -168948.37     0.00\n",
       "2021-12-01               1343088.60 1392728.12  -40681.21   -8958.31     0.99\n",
       "2022-01-01               1237618.33 1370133.81 -122506.30  -10009.18     0.98"
      ]
     },
     "metadata": {},
     "output_type": "display_data"
    },
    {
     "name": "stdout",
     "output_type": "stream",
     "text": [
      "C:\\Users\\truongs\\Documents\\GitHub\\FIA0590_prepaid_revenue_forecast\\analysis\\FIA0590_Sunrise_decomposition.html\n",
      "\n",
      "\n"
     ]
    },
    {
     "data": {
      "text/html": [
       "<div>\n",
       "<style scoped>\n",
       "    .dataframe tbody tr th:only-of-type {\n",
       "        vertical-align: middle;\n",
       "    }\n",
       "\n",
       "    .dataframe tbody tr th {\n",
       "        vertical-align: top;\n",
       "    }\n",
       "\n",
       "    .dataframe thead th {\n",
       "        text-align: right;\n",
       "    }\n",
       "</style>\n",
       "<table border=\"1\" class=\"dataframe\">\n",
       "  <thead>\n",
       "    <tr style=\"text-align: right;\">\n",
       "      <th></th>\n",
       "      <th>observed</th>\n",
       "      <th>trend</th>\n",
       "      <th>seasonal</th>\n",
       "      <th>residuals</th>\n",
       "      <th>weights</th>\n",
       "    </tr>\n",
       "    <tr>\n",
       "      <th>Calendar_Year_Month_Date</th>\n",
       "      <th></th>\n",
       "      <th></th>\n",
       "      <th></th>\n",
       "      <th></th>\n",
       "      <th></th>\n",
       "    </tr>\n",
       "  </thead>\n",
       "  <tbody>\n",
       "    <tr>\n",
       "      <th>2021-11-01</th>\n",
       "      <td>1226125.10</td>\n",
       "      <td>1235206.84</td>\n",
       "      <td>-3894.48</td>\n",
       "      <td>-5187.25</td>\n",
       "      <td>1.00</td>\n",
       "    </tr>\n",
       "    <tr>\n",
       "      <th>2021-12-01</th>\n",
       "      <td>1178721.17</td>\n",
       "      <td>1218893.66</td>\n",
       "      <td>-38936.67</td>\n",
       "      <td>-1235.83</td>\n",
       "      <td>1.00</td>\n",
       "    </tr>\n",
       "    <tr>\n",
       "      <th>2022-01-01</th>\n",
       "      <td>1146105.08</td>\n",
       "      <td>1202575.31</td>\n",
       "      <td>-52142.07</td>\n",
       "      <td>-4328.16</td>\n",
       "      <td>1.00</td>\n",
       "    </tr>\n",
       "  </tbody>\n",
       "</table>\n",
       "</div>"
      ],
      "text/plain": [
       "                           observed      trend  seasonal  residuals  weights\n",
       "Calendar_Year_Month_Date                                                    \n",
       "2021-11-01               1226125.10 1235206.84  -3894.48   -5187.25     1.00\n",
       "2021-12-01               1178721.17 1218893.66 -38936.67   -1235.83     1.00\n",
       "2022-01-01               1146105.08 1202575.31 -52142.07   -4328.16     1.00"
      ]
     },
     "metadata": {},
     "output_type": "display_data"
    },
    {
     "name": "stdout",
     "output_type": "stream",
     "text": [
      "C:\\Users\\truongs\\Documents\\GitHub\\FIA0590_prepaid_revenue_forecast\\analysis\\FIA0590_Yallo_decomposition.html\n",
      "\n",
      "\n"
     ]
    },
    {
     "data": {
      "text/html": [
       "<div>\n",
       "<style scoped>\n",
       "    .dataframe tbody tr th:only-of-type {\n",
       "        vertical-align: middle;\n",
       "    }\n",
       "\n",
       "    .dataframe tbody tr th {\n",
       "        vertical-align: top;\n",
       "    }\n",
       "\n",
       "    .dataframe thead th {\n",
       "        text-align: right;\n",
       "    }\n",
       "</style>\n",
       "<table border=\"1\" class=\"dataframe\">\n",
       "  <thead>\n",
       "    <tr style=\"text-align: right;\">\n",
       "      <th></th>\n",
       "      <th>observed</th>\n",
       "      <th>trend</th>\n",
       "      <th>seasonal</th>\n",
       "      <th>residuals</th>\n",
       "      <th>weights</th>\n",
       "    </tr>\n",
       "    <tr>\n",
       "      <th>Calendar_Year_Month_Date</th>\n",
       "      <th></th>\n",
       "      <th></th>\n",
       "      <th></th>\n",
       "      <th></th>\n",
       "      <th></th>\n",
       "    </tr>\n",
       "  </thead>\n",
       "  <tbody>\n",
       "    <tr>\n",
       "      <th>2021-11-01</th>\n",
       "      <td>1066201.76</td>\n",
       "      <td>1074231.89</td>\n",
       "      <td>3919.25</td>\n",
       "      <td>-11949.37</td>\n",
       "      <td>0.99</td>\n",
       "    </tr>\n",
       "    <tr>\n",
       "      <th>2021-12-01</th>\n",
       "      <td>994736.84</td>\n",
       "      <td>1065596.64</td>\n",
       "      <td>-38054.99</td>\n",
       "      <td>-32804.81</td>\n",
       "      <td>0.95</td>\n",
       "    </tr>\n",
       "    <tr>\n",
       "      <th>2022-01-01</th>\n",
       "      <td>956734.19</td>\n",
       "      <td>1056755.68</td>\n",
       "      <td>-66647.07</td>\n",
       "      <td>-33374.42</td>\n",
       "      <td>0.95</td>\n",
       "    </tr>\n",
       "  </tbody>\n",
       "</table>\n",
       "</div>"
      ],
      "text/plain": [
       "                           observed      trend  seasonal  residuals  weights\n",
       "Calendar_Year_Month_Date                                                    \n",
       "2021-11-01               1066201.76 1074231.89   3919.25  -11949.37     0.99\n",
       "2021-12-01                994736.84 1065596.64 -38054.99  -32804.81     0.95\n",
       "2022-01-01                956734.19 1056755.68 -66647.07  -33374.42     0.95"
      ]
     },
     "metadata": {},
     "output_type": "display_data"
    },
    {
     "name": "stdout",
     "output_type": "stream",
     "text": [
      "C:\\Users\\truongs\\Documents\\GitHub\\FIA0590_prepaid_revenue_forecast\\analysis\\FIA0590_Lebara_decomposition.html\n",
      "\n",
      "\n"
     ]
    }
   ],
   "source": [
    "for (temp_df, brand) in zip(\n",
    "    [sunrise_df, yallo_df, lebara_df], [\"Sunrise\", \"Yallo\", \"Lebara\"]\n",
    "):\n",
    "\n",
    "    res_df = stl_fitting(\n",
    "        observation_df=temp_df,\n",
    "        target_column=\"rev_net_total\",\n",
    "    )\n",
    "\n",
    "    display(res_df.tail(3))\n",
    "    plot_stl_fitting(res_df=res_df, brand_name=brand, ANALYSIS_DIR=ANALYSIS_DIR)\n",
    "    print(\"\\n\")"
   ]
  },
  {
   "cell_type": "markdown",
   "id": "4522e8b9-9d47-417e-9d77-bbc905249710",
   "metadata": {},
   "source": [
    "## Forecasting"
   ]
  },
  {
   "cell_type": "markdown",
   "id": "1f3403e2-e1e7-485e-ac61-a51704c44bc3",
   "metadata": {
    "tags": []
   },
   "source": [
    "### Parameter Optimisation: Stationarity and detrending (ADF/KPSS)"
   ]
  },
  {
   "cell_type": "markdown",
   "id": "18773ba0-fccb-4d69-9e2c-37cee86c5363",
   "metadata": {},
   "source": [
    "https://www.statsmodels.org/dev/examples/notebooks/generated/stationarity_detrending_adf_kpss.html?highlight=stationary%20test"
   ]
  },
  {
   "cell_type": "code",
   "execution_count": 24,
   "id": "0306a624-0bed-4811-9f23-420bca185a81",
   "metadata": {},
   "outputs": [],
   "source": [
    "diff_first_degree = (sunrise_df.rev_net_total.shift(-1) - sunrise_df.rev_net_total)[:-1]"
   ]
  },
  {
   "cell_type": "code",
   "execution_count": 25,
   "id": "78fb6c0e-d4b1-4c3c-9e46-fb9b91ca7eee",
   "metadata": {},
   "outputs": [
    {
     "data": {
      "text/plain": [
       "Calendar_Year_Month_Date\n",
       "2021-08-01    -29243.83\n",
       "2021-09-01   -591344.47\n",
       "2021-10-01    148811.82\n",
       "2021-11-01    159220.00\n",
       "2021-12-01   -105470.27\n",
       "Name: rev_net_total, dtype: float64"
      ]
     },
     "execution_count": 25,
     "metadata": {},
     "output_type": "execute_result"
    }
   ],
   "source": [
    "diff_first_degree.tail()"
   ]
  },
  {
   "cell_type": "code",
   "execution_count": 26,
   "id": "521a0903-6fd4-414e-83e9-a31367cdc4ef",
   "metadata": {},
   "outputs": [],
   "source": [
    "diff_second_degree = (diff_first_degree.shift(-1) - diff_first_degree)[:-1]"
   ]
  },
  {
   "cell_type": "code",
   "execution_count": 27,
   "id": "95fd2017-ff17-437f-9786-e7273aa43d52",
   "metadata": {},
   "outputs": [],
   "source": [
    "def adf_test(timeseries):\n",
    "    print(\"Results of Dickey-Fuller Test:\")\n",
    "    dftest = adfuller(timeseries, autolag=\"AIC\")\n",
    "    dfoutput = pd.Series(\n",
    "        dftest[0:4],\n",
    "        index=[\n",
    "            \"Test Statistic\",\n",
    "            \"p-value\",\n",
    "            \"#Lags Used\",\n",
    "            \"Number of Observations Used\",\n",
    "        ],\n",
    "    )\n",
    "    for key, value in dftest[4].items():\n",
    "        dfoutput[\"Critical Value (%s)\" % key] = value\n",
    "    print(dfoutput)\n",
    "\n",
    "\n",
    "def kpss_test(timeseries):\n",
    "    print(\"Results of KPSS Test:\")\n",
    "    kpsstest = kpss(timeseries, regression=\"c\", nlags=\"auto\")\n",
    "    kpss_output = pd.Series(\n",
    "        kpsstest[0:3], index=[\"Test Statistic\", \"p-value\", \"Lags Used\"]\n",
    "    )\n",
    "    for key, value in kpsstest[3].items():\n",
    "        kpss_output[\"Critical Value (%s)\" % key] = value\n",
    "    print(kpss_output)"
   ]
  },
  {
   "cell_type": "code",
   "execution_count": 28,
   "id": "e94a2744-85de-4f68-9750-a6c7571dceca",
   "metadata": {},
   "outputs": [
    {
     "name": "stdout",
     "output_type": "stream",
     "text": [
      "Results of Dickey-Fuller Test:\n",
      "Test Statistic                 -1.12\n",
      "p-value                         0.71\n",
      "#Lags Used                     12.00\n",
      "Number of Observations Used   119.00\n",
      "Critical Value (1%)            -3.49\n",
      "Critical Value (5%)            -2.89\n",
      "Critical Value (10%)           -2.58\n",
      "dtype: float64\n",
      "\b\n",
      "Results of KPSS Test:\n",
      "Test Statistic          0.44\n",
      "p-value                 0.06\n",
      "Lags Used               4.00\n",
      "Critical Value (10%)    0.35\n",
      "Critical Value (5%)     0.46\n",
      "Critical Value (2.5%)   0.57\n",
      "Critical Value (1%)     0.74\n",
      "dtype: float64\n"
     ]
    }
   ],
   "source": [
    "adf_test(diff_first_degree)\n",
    "print(\"\\b\")\n",
    "kpss_test(diff_first_degree)"
   ]
  },
  {
   "cell_type": "markdown",
   "id": "a441f661-fea9-448e-bc36-c969fb7c883f",
   "metadata": {},
   "source": [
    "_remark_: diff_first_degree are none-stationary based on both tests:\n",
    "\n",
    "    1. Dicky-Fuller p-value: 0.68 far greater than 0.025 -> NO stationarity\n",
    "    2. KPSS p-value: 0.02 smaller than 0.025 -> NO stationarity"
   ]
  },
  {
   "cell_type": "code",
   "execution_count": 29,
   "id": "55b85448-7508-4163-b70f-e848ef10ad21",
   "metadata": {},
   "outputs": [
    {
     "name": "stdout",
     "output_type": "stream",
     "text": [
      "Results of Dickey-Fuller Test:\n",
      "Test Statistic                -10.57\n",
      "p-value                         0.00\n",
      "#Lags Used                     11.00\n",
      "Number of Observations Used   119.00\n",
      "Critical Value (1%)            -3.49\n",
      "Critical Value (5%)            -2.89\n",
      "Critical Value (10%)           -2.58\n",
      "dtype: float64\n",
      "\b\n",
      "Results of KPSS Test:\n",
      "Test Statistic           0.34\n",
      "p-value                  0.10\n",
      "Lags Used               49.00\n",
      "Critical Value (10%)     0.35\n",
      "Critical Value (5%)      0.46\n",
      "Critical Value (2.5%)    0.57\n",
      "Critical Value (1%)      0.74\n",
      "dtype: float64\n"
     ]
    },
    {
     "name": "stderr",
     "output_type": "stream",
     "text": [
      "c:\\program files\\python\\python38\\lib\\site-packages\\statsmodels\\tsa\\stattools.py:2022: InterpolationWarning:\n",
      "\n",
      "The test statistic is outside of the range of p-values available in the\n",
      "look-up table. The actual p-value is greater than the p-value returned.\n",
      "\n",
      "\n"
     ]
    }
   ],
   "source": [
    "adf_test(diff_second_degree)\n",
    "print(\"\\b\")\n",
    "kpss_test(diff_second_degree)"
   ]
  },
  {
   "cell_type": "markdown",
   "id": "236f3698-cee1-4b65-9bba-dff49d820fe2",
   "metadata": {},
   "source": [
    "_remark_: diff_second_degree are none-stationary based on both tests:\n",
    "\n",
    "1. Dicky-Fuller p-value: 0.0 far greater than 0.025 ->  stationary\n",
    "2. KPSS p-value: 0.1 bigger than 0.025  -> stationary"
   ]
  },
  {
   "cell_type": "markdown",
   "id": "7710bd8b-fc66-4dae-a54e-b9c0e614f94a",
   "metadata": {},
   "source": [
    "`Hence: d=2`"
   ]
  },
  {
   "cell_type": "markdown",
   "id": "1c313b3f-8cd1-47f9-8f18-38c68b99dfaf",
   "metadata": {},
   "source": [
    "### Parameter Optimisation: ACF & PACF: Figuring out p and q"
   ]
  },
  {
   "cell_type": "code",
   "execution_count": 35,
   "id": "cc9dcd33-7137-449c-b110-dba1847286ec",
   "metadata": {},
   "outputs": [],
   "source": [
    "import matplotlib.pyplot as plt"
   ]
  },
  {
   "cell_type": "code",
   "execution_count": 58,
   "id": "ef673fcb-b1f7-4ea9-9c5e-64d6111ba5d7",
   "metadata": {},
   "outputs": [
    {
     "name": "stdout",
     "output_type": "stream",
     "text": [
      "C:\\Users\\truongs\\Documents\\GitHub\\FIA0590_prepaid_revenue_forecast\\analysis\\acf.png\n",
      "C:\\Users\\truongs\\Documents\\GitHub\\FIA0590_prepaid_revenue_forecast\\analysis\\pacf.png\n"
     ]
    },
    {
     "name": "stderr",
     "output_type": "stream",
     "text": [
      "c:\\program files\\python\\python38\\lib\\site-packages\\statsmodels\\graphics\\tsaplots.py:348: FutureWarning:\n",
      "\n",
      "The default method 'yw' can produce PACF values outside of the [-1,1] interval. After 0.13, the default will change tounadjusted Yule-Walker ('ywm'). You can use this method now by setting method='ywm'.\n",
      "\n"
     ]
    }
   ],
   "source": [
    "fig, ax = plt.subplots(figsize=(20, 10))\n",
    "plot_acf(diff_second_degree, lags=12, ax=ax)\n",
    "_link_to_file_ = ANALYSIS_DIR / \"acf.png\"\n",
    "plt.savefig(_link_to_file_)\n",
    "print(_link_to_file_)\n",
    "\n",
    "fig, ax = plt.subplots(figsize=(20, 10))\n",
    "plot_pacf(diff_second_degree, lags=12)\n",
    "_link_to_file_ = ANALYSIS_DIR / \"pacf.png\"\n",
    "plt.savefig(_link_to_file_)\n",
    "print(_link_to_file_)"
   ]
  },
  {
   "cell_type": "markdown",
   "id": "ca5d1b37-0d92-4e76-a5d2-9294a4eb7e6d",
   "metadata": {},
   "source": [
    "Contenders for p are 1, 3, 4, 6, and 9\n",
    "\n",
    "Contenders for q are 1, 2, 8, 9, 10, 11"
   ]
  },
  {
   "cell_type": "markdown",
   "id": "06f9b327-702f-436b-bdd1-0bc4d787a701",
   "metadata": {},
   "source": [
    "### Forecasting with STL using Auto-Regressive Integrated Moving Average (ARIMA)"
   ]
  },
  {
   "cell_type": "code",
   "execution_count": 59,
   "id": "08189aff-7269-4c3b-8091-8f8e8d04c519",
   "metadata": {},
   "outputs": [],
   "source": [
    "upper_training_limit = 202109  ## YYYYMM, limit is included"
   ]
  },
  {
   "cell_type": "code",
   "execution_count": 60,
   "id": "1e4f1e29-2934-45c0-9b11-52d570571170",
   "metadata": {},
   "outputs": [],
   "source": [
    "def create_forecasting_df(\n",
    "    sunrise_df: pd.DataFrame, upper_training_limit=202109\n",
    ") -> pd.DataFrame:\n",
    "\n",
    "    sunrise_df.index.freq = sunrise_df.index.inferred_freq\n",
    "\n",
    "    _filter_ = sunrise_df.Calendar_Year_Month_Id <= upper_training_limit\n",
    "    _training_data_ = sunrise_df[_filter_].rev_net_total\n",
    "\n",
    "    stlf = STLForecast(\n",
    "        _training_data_,\n",
    "        model=ARIMA,\n",
    "        model_kwargs=dict(order=(1, 2, 1)),  # (p,d,q)\n",
    "        period=12,  # 12 months periodicity\n",
    "        robust=False,\n",
    "    )\n",
    "\n",
    "    stlf_res = stlf.fit()\n",
    "    # forecast = stlf_res.forecast(steps=12)\n",
    "\n",
    "    stlf_get_pred = stlf_res.get_prediction(start=sunrise_df.index.min(), end=TODAY)\n",
    "\n",
    "    prediction_df = pd.DataFrame(\n",
    "        {\n",
    "            \"predicted_mean\": stlf_get_pred.predicted_mean,\n",
    "            \"var_pred_mean\": stlf_get_pred.var_pred_mean,\n",
    "        }\n",
    "    )\n",
    "\n",
    "    sunrise_with_prediction_df = pd.merge(\n",
    "        right=prediction_df,\n",
    "        left=sunrise_df,\n",
    "        left_index=True,\n",
    "        right_index=True,\n",
    "        how=\"right\",\n",
    "    )\n",
    "    sunrise_with_prediction_df = pd.merge(\n",
    "        left=sunrise_with_prediction_df,\n",
    "        right=stlf_get_pred.conf_int(alpha=0.10),\n",
    "        left_index=True,\n",
    "        right_index=True,\n",
    "        how=\"left\",\n",
    "    )\n",
    "\n",
    "    sunrise_with_prediction_df[\"residuals\"] = (\n",
    "        sunrise_with_prediction_df.rev_net_total\n",
    "        - sunrise_with_prediction_df.predicted_mean\n",
    "    )\n",
    "\n",
    "    sunrise_with_prediction_df[\"Brand_Name\"] = sunrise_with_prediction_df.Brand_Name[1]\n",
    "\n",
    "    print(stlf_res.summary())\n",
    "\n",
    "    mean_error_percentage = sum(\n",
    "        abs(\n",
    "            sunrise_with_prediction_df.residuals.dropna()\n",
    "            / sunrise_with_prediction_df.rev_net_total.dropna()\n",
    "        )\n",
    "    ) / len(sunrise_with_prediction_df.residuals.dropna())\n",
    "\n",
    "    print(f\"Mean Absolute Error: {round(mean_error_percentage*100,3)}%\")\n",
    "\n",
    "    return sunrise_with_prediction_df"
   ]
  },
  {
   "cell_type": "code",
   "execution_count": 61,
   "id": "94808a94-c1db-433f-8f8e-fc16b33127dc",
   "metadata": {
    "tags": []
   },
   "outputs": [],
   "source": [
    "def plot_presentation(\n",
    "    sunrise_with_prediction_df: pd.DataFrame, brand_name: str\n",
    ") -> None:\n",
    "    _date_filter_ = pd.to_datetime(\"2012-01-01\", format=\"%Y-%m-%d\")\n",
    "    _filter_ = sunrise_with_prediction_df.index >= _date_filter_\n",
    "    plot_df = sunrise_with_prediction_df[_filter_]\n",
    "    # brand_name\n",
    "\n",
    "    fig = make_subplots(\n",
    "        rows=2,\n",
    "        cols=1,\n",
    "        subplot_titles=(\"Observations & Training & Forecast (CHF)\", \"Residuals (%)\"),\n",
    "        vertical_spacing=0.05,\n",
    "        horizontal_spacing=0.02,\n",
    "        shared_xaxes=True,\n",
    "        row_heights=[0.7, 0.3],\n",
    "    )\n",
    "\n",
    "    ## Confidence Intervals: lower band\n",
    "    fig.add_trace(\n",
    "        go.Scatter(\n",
    "            x=plot_df.index,\n",
    "            y=plot_df.lower,  # * plot_df.days_in_month,\n",
    "            name=\"lower\",\n",
    "            mode=\"lines\",\n",
    "            line_shape=\"spline\",\n",
    "            fill=None,\n",
    "            showlegend=False,\n",
    "            line=dict(color=\"white\"),\n",
    "            opacity=0.25,\n",
    "        ),\n",
    "        row=1,\n",
    "        col=1,\n",
    "    )\n",
    "\n",
    "    ## Confidence Intervals: Upper band\n",
    "    fig.add_trace(\n",
    "        go.Scatter(\n",
    "            x=plot_df.index,\n",
    "            y=plot_df.upper,  # * plot_df.days_in_month,\n",
    "            name=\"upper\",\n",
    "            mode=\"lines\",\n",
    "            line_shape=\"spline\",\n",
    "            fill=\"tonexty\",  # fill area between trace0 and trace1\n",
    "            showlegend=False,\n",
    "            line=dict(color=\"white\"),\n",
    "            opacity=0.25,\n",
    "        ),\n",
    "        row=1,\n",
    "        col=1,\n",
    "    )\n",
    "\n",
    "    ## Observations:\n",
    "    fig.add_trace(\n",
    "        go.Bar(\n",
    "            x=plot_df.index,\n",
    "            y=plot_df.rev_net_total,\n",
    "            name=\"Net Revenue (monthly)\",\n",
    "            opacity=0.5,\n",
    "            # mode=\"markers\",\n",
    "            # line=dict(color=\"black\"),\n",
    "        ),\n",
    "        row=1,\n",
    "        col=1,\n",
    "    )\n",
    "\n",
    "    ## Model IN-sample predictions:\n",
    "    subplot_df = plot_df[plot_df.Calendar_Year_Month_Id <= upper_training_limit]\n",
    "    fig.add_trace(\n",
    "        go.Scatter(\n",
    "            x=subplot_df.index,\n",
    "            y=subplot_df.predicted_mean,  # * subplot_df.days_in_month,\n",
    "            name=\"Estimation\",\n",
    "            mode=\"lines+markers\",\n",
    "            line_shape=\"spline\",\n",
    "        ),\n",
    "        row=1,\n",
    "        col=1,\n",
    "    )\n",
    "\n",
    "    ## Model OUT-sample Predictions:\n",
    "    subplot_df = plot_df[plot_df.Calendar_Year_Month_Id > upper_training_limit]\n",
    "    fig.add_trace(\n",
    "        go.Scatter(\n",
    "            x=subplot_df.index,\n",
    "            y=subplot_df.predicted_mean,  # * subplot_df.days_in_month,\n",
    "            name=\"Forecast\",\n",
    "            mode=\"lines+markers\",\n",
    "        ),\n",
    "        row=1,\n",
    "        col=1,\n",
    "    )\n",
    "\n",
    "    ## Residuals: Positive, over estimated\n",
    "    subplot_df = plot_df[plot_df.residuals > 0]\n",
    "    fig.add_trace(\n",
    "        go.Bar(\n",
    "            x=subplot_df.index,\n",
    "            y=subplot_df.residuals / subplot_df.rev_net_total * 100,\n",
    "            name=\"Residuals (+)\",\n",
    "            legendgroup=\"resis\",\n",
    "            showlegend=False,\n",
    "        ),\n",
    "        row=2,\n",
    "        col=1,\n",
    "    )\n",
    "\n",
    "    ## Residuals: Negative, under-estimated\n",
    "    subplot_df = plot_df[plot_df.residuals <= 0]\n",
    "    fig.add_trace(\n",
    "        go.Bar(\n",
    "            x=subplot_df.index,\n",
    "            y=subplot_df.residuals / subplot_df.rev_net_total * 100,\n",
    "            name=\"Residuals (-)\",\n",
    "            legendgroup=\"resis\",\n",
    "            showlegend=False,\n",
    "        ),\n",
    "        row=2,\n",
    "        col=1,\n",
    "    )\n",
    "\n",
    "    _date_vlines_ = pd.Series(\n",
    "        pd.date_range(\n",
    "            start=plot_df.index.min() - pd.DateOffset(years=1),\n",
    "            end=plot_df.index.max() + pd.DateOffset(years=1),\n",
    "            freq=\"Y\",\n",
    "        )\n",
    "    ) - pd.DateOffset(days=15)\n",
    "\n",
    "    for _i_ in [1, 2]:\n",
    "        for _x_ in _date_vlines_:\n",
    "            fig.add_vline(\n",
    "                x=_x_,\n",
    "                line_dash=\"dot\",\n",
    "                row=_i_,\n",
    "                col=1,\n",
    "                line=dict(color=\"grey\"),\n",
    "                # annotation_text=\"Jan 1, 2018 baseline\",\n",
    "                # annotation_position=\"bottom right\",\n",
    "            )\n",
    "\n",
    "    ## Configs\n",
    "    fig.update_layout(\n",
    "        title_text=f\"{brand_name} Prepaid Monthly Net-Revenues: STD based on SARIMA & LOESS\",\n",
    "        margin=dict(l=20, r=20, t=50, b=20),\n",
    "        hovermode=\"x unified\",\n",
    "    )\n",
    "    _link_to_file_ = ANALYSIS_DIR / f\"FIA0590_{brand_name}_with_forecast.html\"\n",
    "    fig.write_html(_link_to_file_)\n",
    "\n",
    "    print(_link_to_file_)"
   ]
  },
  {
   "cell_type": "code",
   "execution_count": 62,
   "id": "8e7225f0-faae-4e53-9a65-afc70533c6cc",
   "metadata": {},
   "outputs": [
    {
     "name": "stdout",
     "output_type": "stream",
     "text": [
      "                    STL Decomposition and SARIMAX Results                     \n",
      "==============================================================================\n",
      "Dep. Variable:                      y   No. Observations:                  129\n",
      "Model:                 ARIMA(1, 2, 1)   Log Likelihood               -1686.261\n",
      "Date:                Tue, 15 Feb 2022   AIC                           3378.521\n",
      "Time:                        14:22:43   BIC                           3387.054\n",
      "Sample:                    01-01-2011   HQIC                          3381.988\n",
      "                         - 09-01-2021                                         \n",
      "Covariance Type:                  opg                                         \n",
      "==============================================================================\n",
      "                 coef    std err          z      P>|z|      [0.025      0.975]\n",
      "------------------------------------------------------------------------------\n",
      "ar.L1          0.1926      0.159      1.209      0.227      -0.120       0.505\n",
      "ma.L1         -0.2359      0.167     -1.413      0.158      -0.563       0.091\n",
      "sigma2      5.418e+09   2.53e-11   2.15e+20      0.000    5.42e+09    5.42e+09\n",
      "===================================================================================\n",
      "Ljung-Box (L1) (Q):                  54.98   Jarque-Bera (JB):                 7.61\n",
      "Prob(Q):                              0.00   Prob(JB):                         0.02\n",
      "Heteroskedasticity (H):               0.22   Skew:                            -0.02\n",
      "Prob(H) (two-sided):                  0.00   Kurtosis:                         4.20\n",
      "                                STL Configuration                                \n",
      "=================================================================================\n",
      "Period:                            12       Trend Length:                      23\n",
      "Seasonal:                           7       Trend deg:                          1\n",
      "Seasonal deg:                       1       Trend jump:                         1\n",
      "Seasonal jump:                      1       Low pass:                          13\n",
      "Robust:                         False       Low pass deg:                       1\n",
      "---------------------------------------------------------------------------------\n",
      "\n",
      "Warnings:\n",
      "[1] Covariance matrix calculated using the outer product of gradients (complex-step).\n",
      "[2] Covariance matrix is singular or near-singular, with condition number 3.4e+35. Standard errors may be unstable.\n",
      "Mean Absolute Error: 4.21%\n",
      "\b\n",
      "C:\\Users\\truongs\\Documents\\GitHub\\FIA0590_prepaid_revenue_forecast\\analysis\\FIA0590_Sunrise_with_forecast.html\n"
     ]
    }
   ],
   "source": [
    "sunrise_with_prediction_df = create_forecasting_df(\n",
    "    sunrise_df=sunrise_df, upper_training_limit=202109\n",
    ")\n",
    "\n",
    "print(\"\\b\")\n",
    "plot_presentation(\n",
    "    sunrise_with_prediction_df=sunrise_with_prediction_df, brand_name=\"Sunrise\"\n",
    ")"
   ]
  },
  {
   "cell_type": "code",
   "execution_count": 63,
   "id": "081d0d48-a380-4208-a7e1-390cd1d6dc91",
   "metadata": {},
   "outputs": [
    {
     "name": "stdout",
     "output_type": "stream",
     "text": [
      "                    STL Decomposition and SARIMAX Results                     \n",
      "==============================================================================\n",
      "Dep. Variable:                      y   No. Observations:                  129\n",
      "Model:                 ARIMA(1, 2, 1)   Log Likelihood               -1687.725\n",
      "Date:                Tue, 15 Feb 2022   AIC                           3381.451\n",
      "Time:                        14:22:44   BIC                           3389.983\n",
      "Sample:                    01-01-2011   HQIC                          3384.917\n",
      "                         - 09-01-2021                                         \n",
      "Covariance Type:                  opg                                         \n",
      "==============================================================================\n",
      "                 coef    std err          z      P>|z|      [0.025      0.975]\n",
      "------------------------------------------------------------------------------\n",
      "ar.L1          0.8832      0.017     51.407      0.000       0.850       0.917\n",
      "ma.L1         -0.9999      0.051    -19.613      0.000      -1.100      -0.900\n",
      "sigma2      1.088e+10   4.71e-12   2.31e+21      0.000    1.09e+10    1.09e+10\n",
      "===================================================================================\n",
      "Ljung-Box (L1) (Q):                  37.52   Jarque-Bera (JB):                37.36\n",
      "Prob(Q):                              0.00   Prob(JB):                         0.00\n",
      "Heteroskedasticity (H):               0.09   Skew:                            -0.64\n",
      "Prob(H) (two-sided):                  0.00   Kurtosis:                         5.33\n",
      "                                STL Configuration                                \n",
      "=================================================================================\n",
      "Period:                            12       Trend Length:                      23\n",
      "Seasonal:                           7       Trend deg:                          1\n",
      "Seasonal deg:                       1       Trend jump:                         1\n",
      "Seasonal jump:                      1       Low pass:                          13\n",
      "Robust:                         False       Low pass deg:                       1\n",
      "---------------------------------------------------------------------------------\n",
      "\n",
      "Warnings:\n",
      "[1] Covariance matrix calculated using the outer product of gradients (complex-step).\n",
      "[2] Covariance matrix is singular or near-singular, with condition number 7.27e+35. Standard errors may be unstable.\n",
      "Mean Absolute Error: 3.652%\n",
      "\b\n",
      "C:\\Users\\truongs\\Documents\\GitHub\\FIA0590_prepaid_revenue_forecast\\analysis\\FIA0590_Yallo_with_forecast.html\n"
     ]
    }
   ],
   "source": [
    "yallo_with_prediction_df = create_forecasting_df(\n",
    "    sunrise_df=yallo_df, upper_training_limit=202109\n",
    ")\n",
    "\n",
    "print(\"\\b\")\n",
    "plot_presentation(\n",
    "    sunrise_with_prediction_df=yallo_with_prediction_df, brand_name=\"Yallo\"\n",
    ")"
   ]
  },
  {
   "cell_type": "code",
   "execution_count": 64,
   "id": "c8c557ca-bd65-44fa-8a27-0bd1325298c9",
   "metadata": {},
   "outputs": [
    {
     "name": "stdout",
     "output_type": "stream",
     "text": [
      "                    STL Decomposition and SARIMAX Results                     \n",
      "==============================================================================\n",
      "Dep. Variable:                      y   No. Observations:                  129\n",
      "Model:                 ARIMA(1, 2, 1)   Log Likelihood               -1725.555\n",
      "Date:                Tue, 15 Feb 2022   AIC                           3457.109\n",
      "Time:                        14:22:45   BIC                           3465.642\n",
      "Sample:                    01-01-2011   HQIC                          3460.576\n",
      "                         - 09-01-2021                                         \n",
      "Covariance Type:                  opg                                         \n",
      "==============================================================================\n",
      "                 coef    std err          z      P>|z|      [0.025      0.975]\n",
      "------------------------------------------------------------------------------\n",
      "ar.L1          0.8402      0.025     33.291      0.000       0.791       0.890\n",
      "ma.L1         -0.9998      0.049    -20.560      0.000      -1.095      -0.905\n",
      "sigma2      2.241e+10   2.21e-12   1.01e+22      0.000    2.24e+10    2.24e+10\n",
      "===================================================================================\n",
      "Ljung-Box (L1) (Q):                  28.30   Jarque-Bera (JB):               133.78\n",
      "Prob(Q):                              0.00   Prob(JB):                         0.00\n",
      "Heteroskedasticity (H):               0.22   Skew:                            -0.57\n",
      "Prob(H) (two-sided):                  0.00   Kurtosis:                         7.90\n",
      "                                STL Configuration                                \n",
      "=================================================================================\n",
      "Period:                            12       Trend Length:                      23\n",
      "Seasonal:                           7       Trend deg:                          1\n",
      "Seasonal deg:                       1       Trend jump:                         1\n",
      "Seasonal jump:                      1       Low pass:                          13\n",
      "Robust:                         False       Low pass deg:                       1\n",
      "---------------------------------------------------------------------------------\n",
      "\n",
      "Warnings:\n",
      "[1] Covariance matrix calculated using the outer product of gradients (complex-step).\n",
      "[2] Covariance matrix is singular or near-singular, with condition number 9.1e+36. Standard errors may be unstable.\n",
      "Mean Absolute Error: 4.505%\n",
      "\b\n",
      "C:\\Users\\truongs\\Documents\\GitHub\\FIA0590_prepaid_revenue_forecast\\analysis\\FIA0590_Lebara_with_forecast.html\n"
     ]
    }
   ],
   "source": [
    "lebara_with_prediction_df = create_forecasting_df(\n",
    "    sunrise_df=lebara_df, upper_training_limit=202109\n",
    ")\n",
    "\n",
    "print(\"\\b\")\n",
    "plot_presentation(\n",
    "    sunrise_with_prediction_df=lebara_with_prediction_df, brand_name=\"Lebara\"\n",
    ")"
   ]
  },
  {
   "cell_type": "markdown",
   "id": "feda12a7-a8e7-4221-a880-03764290b594",
   "metadata": {},
   "source": [
    "# Deployment"
   ]
  },
  {
   "cell_type": "code",
   "execution_count": 65,
   "id": "e0c8a850-243f-4e97-b0cf-0e855424fa46",
   "metadata": {},
   "outputs": [],
   "source": [
    "output_df = pd.concat(\n",
    "    [sunrise_with_prediction_df, yallo_with_prediction_df, lebara_with_prediction_df]\n",
    ")\n",
    "\n",
    "output_df[\"Calendar_Year_Month_Date\"] = output_df.index\n",
    "\n",
    "_cols_ = [\n",
    "    \"Calendar_Year_Month_Date\",\n",
    "    \"Brand_Name\",\n",
    "    \"rev_net_total\",\n",
    "    \"predicted_mean\",\n",
    "    \"residuals\",\n",
    "    \"lower\",\n",
    "    \"upper\",\n",
    "]\n",
    "output_df = (\n",
    "    output_df[_cols_]\n",
    "    .reset_index()\n",
    "    .drop(columns=\"index\")\n",
    "    .rename(columns={\"predicted_mean\": \"stl_estimatation\"})\n",
    ")\n",
    "\n",
    "output_df = output_df[\n",
    "    output_df.Calendar_Year_Month_Date\n",
    "    >= pd.to_datetime(\"2012-01-01\", format=\"%Y-%m-%d\")\n",
    "]\n",
    "\n",
    "prediction_flag = output_df.Calendar_Year_Month_Date > pd.to_datetime(\n",
    "    \"2021-09-01\", format=\"%Y-%m-%d\"\n",
    ")\n",
    "\n",
    "output_df[\"residuals_percentage\"] = output_df.residuals / output_df.rev_net_total * 100\n",
    "output_df[\"prediction_flag\"] = prediction_flag"
   ]
  },
  {
   "cell_type": "code",
   "execution_count": 35,
   "id": "5ef06b08-a293-4ceb-99e4-08ae9314e272",
   "metadata": {},
   "outputs": [],
   "source": [
    "output_df.to_excel(\n",
    "    ANALYSIS_DIR / \"FIA0590_prepaid_forecasts_20220208.xlsx\",\n",
    "    index=False,\n",
    ")"
   ]
  },
  {
   "cell_type": "code",
   "execution_count": null,
   "id": "c251fe11-1e96-4e0c-8224-dcd9c8d6ade7",
   "metadata": {},
   "outputs": [],
   "source": []
  }
 ],
 "metadata": {
  "kernelspec": {
   "display_name": "Python 3 (ipykernel)",
   "language": "python",
   "name": "python3"
  },
  "language_info": {
   "codemirror_mode": {
    "name": "ipython",
    "version": 3
   },
   "file_extension": ".py",
   "mimetype": "text/x-python",
   "name": "python",
   "nbconvert_exporter": "python",
   "pygments_lexer": "ipython3",
   "version": "3.8.2"
  },
  "toc-autonumbering": true
 },
 "nbformat": 4,
 "nbformat_minor": 5
}
